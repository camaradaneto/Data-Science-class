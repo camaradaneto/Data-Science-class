{
  "nbformat": 4,
  "nbformat_minor": 0,
  "metadata": {
    "colab": {
      "name": "Simple Linear Regression. Minimal Example.ipynb",
      "provenance": [],
      "authorship_tag": "ABX9TyO/2LzfssHoXMddMvLYu2JP",
      "include_colab_link": true
    },
    "kernelspec": {
      "name": "python3",
      "display_name": "Python 3"
    }
  },
  "cells": [
    {
      "cell_type": "markdown",
      "metadata": {
        "id": "view-in-github",
        "colab_type": "text"
      },
      "source": [
        "<a href=\"https://colab.research.google.com/github/camaradaneto/Data-Science-class/blob/master/Simple_Linear_Regression_Minimal_Example.ipynb\" target=\"_parent\"><img src=\"https://colab.research.google.com/assets/colab-badge.svg\" alt=\"Open In Colab\"/></a>"
      ]
    },
    {
      "cell_type": "markdown",
      "metadata": {
        "id": "RoevdJZpiDEC",
        "colab_type": "text"
      },
      "source": [
        " **Import Relevant Libraries**"
      ]
    },
    {
      "cell_type": "code",
      "metadata": {
        "id": "j8HibVibPrNx",
        "colab_type": "code",
        "colab": {}
      },
      "source": [
        "import numpy as np\n",
        "import matplotlib.pyplot as plt\n",
        "from mpl_toolkits.mplot3d import Axes3D\n"
      ],
      "execution_count": 0,
      "outputs": []
    },
    {
      "cell_type": "markdown",
      "metadata": {
        "id": "EqzV_cYXie9M",
        "colab_type": "text"
      },
      "source": [
        "**Generate random input to train**"
      ]
    },
    {
      "cell_type": "code",
      "metadata": {
        "id": "UPRePzT2Qpgh",
        "colab_type": "code",
        "outputId": "c6a47c58-9dd8-4a2b-de75-7104b7ce3711",
        "colab": {
          "base_uri": "https://localhost:8080/",
          "height": 34
        }
      },
      "source": [
        "observations = 1000\n",
        "xs= np.random.uniform(low=-10, high=10, size=(observations,1))\n",
        "zs= np.random.uniform(-10,10,(observations, 1))\n",
        "\n",
        "inputs = np.column_stack((xs,zs))\n",
        "\n",
        "print (inputs.shape)"
      ],
      "execution_count": 49,
      "outputs": [
        {
          "output_type": "stream",
          "text": [
            "(1000, 2)\n"
          ],
          "name": "stdout"
        }
      ]
    },
    {
      "cell_type": "markdown",
      "metadata": {
        "id": "rQggYnzXic6k",
        "colab_type": "text"
      },
      "source": [
        "**Create targets**"
      ]
    },
    {
      "cell_type": "code",
      "metadata": {
        "id": "QqoL13WMhX9m",
        "colab_type": "code",
        "outputId": "68234d10-938c-47fc-f78b-809196b94629",
        "colab": {
          "base_uri": "https://localhost:8080/",
          "height": 34
        }
      },
      "source": [
        "noise = np.random.uniform(-1,1,(observations, 1))\n",
        "\n",
        "targets = 2*xs - 3*zs + 5 + noise\n",
        "\n",
        "print(targets.shape)"
      ],
      "execution_count": 50,
      "outputs": [
        {
          "output_type": "stream",
          "text": [
            "(1000, 1)\n"
          ],
          "name": "stdout"
        }
      ]
    },
    {
      "cell_type": "markdown",
      "metadata": {
        "id": "SnywnUC6k8ip",
        "colab_type": "text"
      },
      "source": [
        "**Initialize variables**"
      ]
    },
    {
      "cell_type": "code",
      "metadata": {
        "id": "-jJRVALslACH",
        "colab_type": "code",
        "outputId": "80cf485b-c0c6-43f7-b704-3fe7a5441184",
        "colab": {
          "base_uri": "https://localhost:8080/",
          "height": 68
        }
      },
      "source": [
        "init_range = 0.1\n",
        "\n",
        "weights = np.random.uniform(-init_range, init_range, (2,1))\n",
        "\n",
        "biases = np.random.uniform(-init_range, init_range, (1))\n",
        "\n",
        "print(weights)\n",
        "print(biases)"
      ],
      "execution_count": 51,
      "outputs": [
        {
          "output_type": "stream",
          "text": [
            "[[ 0.07297733]\n",
            " [-0.0849257 ]]\n",
            "[0.07104392]\n"
          ],
          "name": "stdout"
        }
      ]
    },
    {
      "cell_type": "markdown",
      "metadata": {
        "id": "LSurMKnPl2d4",
        "colab_type": "text"
      },
      "source": [
        "**set learning rate**"
      ]
    },
    {
      "cell_type": "code",
      "metadata": {
        "id": "4mEUBDszlpFg",
        "colab_type": "code",
        "colab": {}
      },
      "source": [
        "learning_rate = 0.02"
      ],
      "execution_count": 0,
      "outputs": []
    },
    {
      "cell_type": "code",
      "metadata": {
        "id": "JjckOD2el98v",
        "colab_type": "code",
        "colab": {}
      },
      "source": [
        ""
      ],
      "execution_count": 0,
      "outputs": []
    },
    {
      "cell_type": "markdown",
      "metadata": {
        "id": "gsDDQslNmK_f",
        "colab_type": "text"
      },
      "source": [
        "**Train the model**"
      ]
    },
    {
      "cell_type": "code",
      "metadata": {
        "id": "rAZiu6fXmOxX",
        "colab_type": "code",
        "outputId": "af34b2ad-506c-4467-b660-14a940930410",
        "colab": {
          "base_uri": "https://localhost:8080/",
          "height": 1000
        }
      },
      "source": [
        "for i in range (100):\n",
        "  outputs = np.dot(inputs, weights) + biases\n",
        "  deltas = outputs - targets\n",
        "\n",
        "  loss = np.sum(deltas **2)/2/observations\n",
        "\n",
        "  print (loss)\n",
        "\n",
        "  deltas_scaled = deltas / observations\n",
        "\n",
        "  weights = weights - learning_rate * np.dot(inputs.T, deltas_scaled)\n",
        "  biases = biases - learning_rate * np.sum(deltas_scaled)"
      ],
      "execution_count": 55,
      "outputs": [
        {
          "output_type": "stream",
          "text": [
            "0.16771263037095874\n",
            "0.16755996764586203\n",
            "0.1674133458796167\n",
            "0.1672725260277288\n",
            "0.16713727850484378\n",
            "0.167007382810442\n",
            "0.1668826271693462\n",
            "0.16676280818645484\n",
            "0.16664773051513634\n",
            "0.16653720653874698\n",
            "0.16643105606475012\n",
            "0.16632910603093978\n",
            "0.16623119022328864\n",
            "0.16613714900496215\n",
            "0.16604682905605406\n",
            "0.16596008312362234\n",
            "0.16587676978161517\n",
            "0.16579675320029721\n",
            "0.1657199029248006\n",
            "0.1656460936624373\n",
            "0.16557520507842885\n",
            "0.16550712159971886\n",
            "0.16544173222654812\n",
            "0.16537893035148743\n",
            "0.1653186135856292\n",
            "0.16526068359165894\n",
            "0.16520504592353064\n",
            "0.1651516098724867\n",
            "0.16510028831917203\n",
            "0.16505099759159794\n",
            "0.1650036573287286\n",
            "0.16495819034946424\n",
            "0.164914522526809\n",
            "0.16487258266701849\n",
            "0.16483230239352867\n",
            "0.1647936160354792\n",
            "0.16475646052064594\n",
            "0.164720775272612\n",
            "0.16468650211200708\n",
            "0.16465358516165435\n",
            "0.16462197075547186\n",
            "0.16459160735097794\n",
            "0.1645624454452586\n",
            "0.16453443749426108\n",
            "0.16450753783528035\n",
            "0.164481702612513\n",
            "0.16445688970555683\n",
            "0.16443305866074034\n",
            "0.1644101706251687\n",
            "0.16438818828338053\n",
            "0.16436707579651022\n",
            "0.1643467987438583\n",
            "0.16432732406677406\n",
            "0.16430862001475788\n",
            "0.164290656093697\n",
            "0.16427340301614995\n",
            "0.16425683265359742\n",
            "0.16424091799058294\n",
            "0.1642256330806686\n",
            "0.16421095300413313\n",
            "0.16419685382734395\n",
            "0.16418331256373744\n",
            "0.1641703071363423\n",
            "0.16415781634178694\n",
            "0.16414581981573012\n",
            "0.1641342979996605\n",
            "0.16412323210900895\n",
            "0.1641126041025236\n",
            "0.16410239665285592\n",
            "0.16409259311831148\n",
            "0.16408317751571794\n",
            "0.1640741344943671\n",
            "0.1640654493109878\n",
            "0.16405710780570915\n",
            "0.16404909637897536\n",
            "0.16404140196937328\n",
            "0.16403401203233825\n",
            "0.1640269145197016\n",
            "0.16402009786004826\n",
            "0.1640135509398512\n",
            "0.16400726308535274\n",
            "0.16400122404516218\n",
            "0.16399542397354275\n",
            "0.1639898534143598\n",
            "0.16398450328566355\n",
            "0.16397936486488282\n",
            "0.1639744297746039\n",
            "0.1639696899689125\n",
            "0.1639651377202763\n",
            "0.1639607656069459\n",
            "0.1639565665008556\n",
            "0.16395253355600134\n",
            "0.16394866019727988\n",
            "0.16394494010976873\n",
            "0.16394136722843097\n",
            "0.16393793572822687\n",
            "0.16393464001461708\n",
            "0.163931474714442\n",
            "0.16392843466716067\n",
            "0.1639255149164385\n"
          ],
          "name": "stdout"
        }
      ]
    },
    {
      "cell_type": "markdown",
      "metadata": {
        "id": "wH0y-kKx_gYB",
        "colab_type": "text"
      },
      "source": [
        "**Plot outputs x targets**"
      ]
    },
    {
      "cell_type": "code",
      "metadata": {
        "id": "gvgvG92v0s2c",
        "colab_type": "code",
        "colab": {
          "base_uri": "https://localhost:8080/",
          "height": 279
        },
        "outputId": "cbff291a-169e-4293-b2c0-d86812dd3f0f"
      },
      "source": [
        "plt.plot(outputs, targets)\n",
        "plt.xlabel('outputs')\n",
        "plt.ylabel('targets')\n",
        "plt.show()"
      ],
      "execution_count": 56,
      "outputs": [
        {
          "output_type": "display_data",
          "data": {
            "image/png": "[encoded data removed]",
            "text/plain": [
              "<Figure size 432x288 with 1 Axes>"
            ]
          },
          "metadata": {
            "tags": []
          }
        }
      ]
    },
    {
      "cell_type": "code",
      "metadata": {
        "id": "3Xs3UQ31_eNH",
        "colab_type": "code",
        "colab": {}
      },
      "source": [
        ""
      ],
      "execution_count": 0,
      "outputs": []
    }
  ]
}